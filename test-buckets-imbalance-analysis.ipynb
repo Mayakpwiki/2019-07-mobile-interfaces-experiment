{
 "cells": [
  {
   "cell_type": "markdown",
   "metadata": {},
   "source": [
    "# VE mobile default test buckets analysis"
   ]
  },
  {
   "cell_type": "markdown",
   "metadata": {},
   "source": [
    "Druing [initial check](https://phabricator.wikimedia.org/T229426#5468481), we uncovered, \"...53.4% of the users (both registered and anonymous) who were bucketed ended up in wikitext default bucket. It turns out that it would be incredibly unlikely (p << 10^-15) to get an imbalance this big if our random assignment was actually 50%–50%. So there's clearly an serious issue somewhere that we need to understand.\""
   ]
  },
  {
   "cell_type": "markdown",
   "metadata": {},
   "source": [
    "**Previous bucketing results:**\n",
    "\n",
    "| bucket         | users     |\n",
    "|:---------------|-----------|\n",
    "| source default | 1,302,187 |\n",
    "| visual default | 1,214,917 |\n",
    "\n"
   ]
  },
  {
   "cell_type": "markdown",
   "metadata": {},
   "source": [
    "## Plan for investigation\n",
    "\n",
    "What might be causing contributors not being assigned to test buckets in a more balanced way?\n",
    "1. See if imblance is present for any particular dimension. \n",
    "  + Registered vs anonymous contributors\n",
    "  + Country\n",
    "  + Browser\n",
    "  + Wiki\n",
    "  + Event.action (to confirm that imblance occurs at first action and throughout editing process)\n",
    "2. Report results back to team to determine what next steps make sense.\n"
   ]
  },
  {
   "cell_type": "code",
   "execution_count": 58,
   "metadata": {},
   "outputs": [],
   "source": [
    "shhh <- function(expr) suppressPackageStartupMessages(suppressWarnings(suppressMessages(expr)))\n",
    "shhh({\n",
    "    library(tidyverse); library(lubridate)\n",
    "    library(scales); library(data.table)\n",
    "})\n"
   ]
  },
  {
   "cell_type": "markdown",
   "metadata": {},
   "source": [
    "## Collect Data"
   ]
  },
  {
   "cell_type": "code",
   "execution_count": 92,
   "metadata": {},
   "outputs": [],
   "source": [
    "query <- \n",
    "\"\n",
    "SELECT\n",
    "    event.editing_session_id as edit_attempt_id, \n",
    "    wiki,  \n",
    "    event.platform as platform, \n",
    "    useragent.browser_family as browser_family, \n",
    "    useragent.os_family as os_family, \n",
    "    event.editor_interface as interface, \n",
    "    if(event.user_id != 0, concat(wiki, '-', event.user_id), event.anonymous_user_token) as user_id,\n",
    "    event.user_id = 0 as user_is_anonymous_byid, \n",
    "    if(event.anonymous_user_token is NULL, false, true) as user_is_anonymous_bytoken, \n",
    "    event.user_id != 0 as user_is_registered, \n",
    "    event.action as action,\n",
    "    event.init_timing as init_timing,\n",
    "    event.bucket,  \n",
    "    geocoded_data['country'] as country,\n",
    "    event.user_editcount as user_edit_count\n",
    "FROM event.editattemptstep\n",
    "WHERE\n",
    "    event.bucket in ('default-visual', 'default-source') and\n",
    "    year = 2019 and (\n",
    "        month = 7 and day >= 14 or\n",
    "        month >= 8)\n",
    "\"\n"
   ]
  },
  {
   "cell_type": "code",
   "execution_count": 93,
   "metadata": {},
   "outputs": [],
   "source": [
    "sessions = wmf::query_hive(query)"
   ]
  },
  {
   "cell_type": "code",
   "execution_count": 96,
   "metadata": {},
   "outputs": [
    {
     "data": {
      "text/html": [
       "<table>\n",
       "<caption>A tibble: 2 × 3</caption>\n",
       "<thead>\n",
       "\t<tr><th scope=col>bucket</th><th scope=col>users</th><th scope=col>attempts</th></tr>\n",
       "\t<tr><th scope=col>&lt;chr&gt;</th><th scope=col>&lt;int&gt;</th><th scope=col>&lt;int&gt;</th></tr>\n",
       "</thead>\n",
       "<tbody>\n",
       "\t<tr><td>default-source</td><td>1907187</td><td>2721255</td></tr>\n",
       "\t<tr><td>default-visual</td><td>1784439</td><td>2539846</td></tr>\n",
       "</tbody>\n",
       "</table>\n"
      ],
      "text/latex": [
       "A tibble: 2 × 3\n",
       "\\begin{tabular}{r|lll}\n",
       " bucket & users & attempts\\\\\n",
       " <chr> & <int> & <int>\\\\\n",
       "\\hline\n",
       "\t default-source & 1907187 & 2721255\\\\\n",
       "\t default-visual & 1784439 & 2539846\\\\\n",
       "\\end{tabular}\n"
      ],
      "text/markdown": [
       "\n",
       "A tibble: 2 × 3\n",
       "\n",
       "| bucket &lt;chr&gt; | users &lt;int&gt; | attempts &lt;int&gt; |\n",
       "|---|---|---|\n",
       "| default-source | 1907187 | 2721255 |\n",
       "| default-visual | 1784439 | 2539846 |\n",
       "\n"
      ],
      "text/plain": [
       "  bucket         users   attempts\n",
       "1 default-source 1907187 2721255 \n",
       "2 default-visual 1784439 2539846 "
      ]
     },
     "metadata": {},
     "output_type": "display_data"
    }
   ],
   "source": [
    "#recheck overall user bucket number to confirm any changes imbalance \n",
    "\n",
    "sessions_all <- sessions %>%\n",
    "  group_by(bucket) %>%\n",
    "  summarise(users = n_distinct(user_id),\n",
    "        attempts = n_distinct(edit_attempt_id))\n",
    "\n",
    "sessions_all"
   ]
  },
  {
   "cell_type": "markdown",
   "metadata": {},
   "source": [
    "Confirmed that a larger percentage of users (about 51.6%) are still being included in the wikitext as default bucket."
   ]
  },
  {
   "cell_type": "markdown",
   "metadata": {},
   "source": [
    "## Check if imbalance is present for just registered or anonymous users."
   ]
  },
  {
   "cell_type": "code",
   "execution_count": 19,
   "metadata": {},
   "outputs": [
    {
     "data": {
      "text/html": [
       "<table>\n",
       "<caption>A tibble: 2 × 3</caption>\n",
       "<thead>\n",
       "\t<tr><th scope=col>bucket</th><th scope=col>users</th><th scope=col>attempts</th></tr>\n",
       "\t<tr><th scope=col>&lt;chr&gt;</th><th scope=col>&lt;int&gt;</th><th scope=col>&lt;int&gt;</th></tr>\n",
       "</thead>\n",
       "<tbody>\n",
       "\t<tr><td>default-source</td><td>1891449</td><td>2663795</td></tr>\n",
       "\t<tr><td>default-visual</td><td>1769443</td><td>2482893</td></tr>\n",
       "</tbody>\n",
       "</table>\n"
      ],
      "text/latex": [
       "A tibble: 2 × 3\n",
       "\\begin{tabular}{r|lll}\n",
       " bucket & users & attempts\\\\\n",
       " <chr> & <int> & <int>\\\\\n",
       "\\hline\n",
       "\t default-source & 1891449 & 2663795\\\\\n",
       "\t default-visual & 1769443 & 2482893\\\\\n",
       "\\end{tabular}\n"
      ],
      "text/markdown": [
       "\n",
       "A tibble: 2 × 3\n",
       "\n",
       "| bucket &lt;chr&gt; | users &lt;int&gt; | attempts &lt;int&gt; |\n",
       "|---|---|---|\n",
       "| default-source | 1891449 | 2663795 |\n",
       "| default-visual | 1769443 | 2482893 |\n",
       "\n"
      ],
      "text/plain": [
       "  bucket         users   attempts\n",
       "1 default-source 1891449 2663795 \n",
       "2 default-visual 1769443 2482893 "
      ]
     },
     "metadata": {},
     "output_type": "display_data"
    }
   ],
   "source": [
    "## Break down by anonymous users to identify any discrepancy that occurs there\n",
    "\n",
    "sessions_anonymous <- sessions %>%\n",
    "  filter(user_is_anonymous_byid == 'true') %>%\n",
    "  group_by(bucket) %>%\n",
    "  summarise(users = n_distinct(user_id),\n",
    "        attempts = n_distinct(edit_attempt_id))\n",
    "\n",
    "sessions_anonymous"
   ]
  },
  {
   "cell_type": "markdown",
   "metadata": {},
   "source": [
    "We also see an imbalance when looking at just anonymous users. About 51.7% of users are included in the wikitext as default bucket, similar to when looking at all users."
   ]
  },
  {
   "cell_type": "code",
   "execution_count": 20,
   "metadata": {},
   "outputs": [
    {
     "data": {
      "text/html": [
       "<table>\n",
       "<caption>A tibble: 2 × 3</caption>\n",
       "<thead>\n",
       "\t<tr><th scope=col>bucket</th><th scope=col>users</th><th scope=col>attempts</th></tr>\n",
       "\t<tr><th scope=col>&lt;chr&gt;</th><th scope=col>&lt;int&gt;</th><th scope=col>&lt;int&gt;</th></tr>\n",
       "</thead>\n",
       "<tbody>\n",
       "\t<tr><td>default-source</td><td>1891449</td><td>2663795</td></tr>\n",
       "\t<tr><td>default-visual</td><td>1769443</td><td>2482893</td></tr>\n",
       "</tbody>\n",
       "</table>\n"
      ],
      "text/latex": [
       "A tibble: 2 × 3\n",
       "\\begin{tabular}{r|lll}\n",
       " bucket & users & attempts\\\\\n",
       " <chr> & <int> & <int>\\\\\n",
       "\\hline\n",
       "\t default-source & 1891449 & 2663795\\\\\n",
       "\t default-visual & 1769443 & 2482893\\\\\n",
       "\\end{tabular}\n"
      ],
      "text/markdown": [
       "\n",
       "A tibble: 2 × 3\n",
       "\n",
       "| bucket &lt;chr&gt; | users &lt;int&gt; | attempts &lt;int&gt; |\n",
       "|---|---|---|\n",
       "| default-source | 1891449 | 2663795 |\n",
       "| default-visual | 1769443 | 2482893 |\n",
       "\n"
      ],
      "text/plain": [
       "  bucket         users   attempts\n",
       "1 default-source 1891449 2663795 \n",
       "2 default-visual 1769443 2482893 "
      ]
     },
     "metadata": {},
     "output_type": "display_data"
    }
   ],
   "source": [
    "## Look at user_isanonymous_bytoken to confirm it matches with user_is_anonymous_byid\n",
    "\n",
    "sessions_anonymous_bytoken <- sessions %>%\n",
    "  filter(user_is_anonymous_bytoken == \"true\") %>%\n",
    "  group_by(bucket) %>%\n",
    "  summarise(users = n_distinct(user_id),\n",
    "        attempts = n_distinct(edit_attempt_id))\n",
    "\n",
    "sessions_anonymous_bytoken"
   ]
  },
  {
   "cell_type": "markdown",
   "metadata": {},
   "source": [
    "Confirmed those two are equal. "
   ]
  },
  {
   "cell_type": "code",
   "execution_count": 24,
   "metadata": {},
   "outputs": [
    {
     "data": {
      "text/html": [
       "<table>\n",
       "<caption>A tibble: 2 × 3</caption>\n",
       "<thead>\n",
       "\t<tr><th scope=col>bucket</th><th scope=col>users</th><th scope=col>attempts</th></tr>\n",
       "\t<tr><th scope=col>&lt;chr&gt;</th><th scope=col>&lt;int&gt;</th><th scope=col>&lt;int&gt;</th></tr>\n",
       "</thead>\n",
       "<tbody>\n",
       "\t<tr><td>default-source</td><td>9137</td><td>47809</td></tr>\n",
       "\t<tr><td>default-visual</td><td>8819</td><td>47925</td></tr>\n",
       "</tbody>\n",
       "</table>\n"
      ],
      "text/latex": [
       "A tibble: 2 × 3\n",
       "\\begin{tabular}{r|lll}\n",
       " bucket & users & attempts\\\\\n",
       " <chr> & <int> & <int>\\\\\n",
       "\\hline\n",
       "\t default-source & 9137 & 47809\\\\\n",
       "\t default-visual & 8819 & 47925\\\\\n",
       "\\end{tabular}\n"
      ],
      "text/markdown": [
       "\n",
       "A tibble: 2 × 3\n",
       "\n",
       "| bucket &lt;chr&gt; | users &lt;int&gt; | attempts &lt;int&gt; |\n",
       "|---|---|---|\n",
       "| default-source | 9137 | 47809 |\n",
       "| default-visual | 8819 | 47925 |\n",
       "\n"
      ],
      "text/plain": [
       "  bucket         users attempts\n",
       "1 default-source 9137  47809   \n",
       "2 default-visual 8819  47925   "
      ]
     },
     "metadata": {},
     "output_type": "display_data"
    }
   ],
   "source": [
    "## Break down by registered users to identify any discrepancy that occurs there\n",
    "\n",
    "sessions_registered <- sessions %>%\n",
    "  filter(user_is_registered == \"true\") %>%\n",
    "  group_by(bucket) %>%\n",
    "  summarise(users = n_distinct(user_id),\n",
    "        attempts = n_distinct(edit_attempt_id))\n",
    "\n",
    "sessions_registered"
   ]
  },
  {
   "cell_type": "markdown",
   "metadata": {},
   "source": [
    "Unable to isolate imbalance to just anonymous or registred users. \n",
    "\n",
    "We also see an imbalance when looking at just anonymous users or registered users. About 51.7% of anonymous users and 50.9% of registered users are included in the wikitext as default bucket, similar to when looking at all users."
   ]
  },
  {
   "cell_type": "markdown",
   "metadata": {},
   "source": [
    "## Check if imblance is present for a particular browser."
   ]
  },
  {
   "cell_type": "code",
   "execution_count": 70,
   "metadata": {},
   "outputs": [
    {
     "data": {
      "text/html": [
       "<table>\n",
       "<caption>A grouped_df: 6 × 4</caption>\n",
       "<thead>\n",
       "\t<tr><th scope=col>bucket</th><th scope=col>browser_family</th><th scope=col>users</th><th scope=col>attempts</th></tr>\n",
       "\t<tr><th scope=col>&lt;chr&gt;</th><th scope=col>&lt;chr&gt;</th><th scope=col>&lt;int&gt;</th><th scope=col>&lt;int&gt;</th></tr>\n",
       "</thead>\n",
       "<tbody>\n",
       "\t<tr><td>default-source</td><td>Amazon Silk  </td><td> 262</td><td> 395</td></tr>\n",
       "\t<tr><td>default-visual</td><td>Amazon Silk  </td><td> 280</td><td> 402</td></tr>\n",
       "\t<tr><td>default-source</td><td>Android      </td><td>4667</td><td>6604</td></tr>\n",
       "\t<tr><td>default-visual</td><td>Android      </td><td>3887</td><td>6178</td></tr>\n",
       "\t<tr><td>default-source</td><td>Baidu Browser</td><td>   1</td><td>   1</td></tr>\n",
       "\t<tr><td>default-source</td><td>bingbot      </td><td> 398</td><td> 689</td></tr>\n",
       "</tbody>\n",
       "</table>\n"
      ],
      "text/latex": [
       "A grouped_df: 6 × 4\n",
       "\\begin{tabular}{r|llll}\n",
       " bucket & browser\\_family & users & attempts\\\\\n",
       " <chr> & <chr> & <int> & <int>\\\\\n",
       "\\hline\n",
       "\t default-source & Amazon Silk   &  262 &  395\\\\\n",
       "\t default-visual & Amazon Silk   &  280 &  402\\\\\n",
       "\t default-source & Android       & 4667 & 6604\\\\\n",
       "\t default-visual & Android       & 3887 & 6178\\\\\n",
       "\t default-source & Baidu Browser &    1 &    1\\\\\n",
       "\t default-source & bingbot       &  398 &  689\\\\\n",
       "\\end{tabular}\n"
      ],
      "text/markdown": [
       "\n",
       "A grouped_df: 6 × 4\n",
       "\n",
       "| bucket &lt;chr&gt; | browser_family &lt;chr&gt; | users &lt;int&gt; | attempts &lt;int&gt; |\n",
       "|---|---|---|---|\n",
       "| default-source | Amazon Silk   |  262 |  395 |\n",
       "| default-visual | Amazon Silk   |  280 |  402 |\n",
       "| default-source | Android       | 4667 | 6604 |\n",
       "| default-visual | Android       | 3887 | 6178 |\n",
       "| default-source | Baidu Browser |    1 |    1 |\n",
       "| default-source | bingbot       |  398 |  689 |\n",
       "\n"
      ],
      "text/plain": [
       "  bucket         browser_family users attempts\n",
       "1 default-source Amazon Silk     262   395    \n",
       "2 default-visual Amazon Silk     280   402    \n",
       "3 default-source Android        4667  6604    \n",
       "4 default-visual Android        3887  6178    \n",
       "5 default-source Baidu Browser     1     1    \n",
       "6 default-source bingbot         398   689    "
      ]
     },
     "metadata": {},
     "output_type": "display_data"
    }
   ],
   "source": [
    "sessions_bybrowser <- sessions %>%\n",
    "  group_by(bucket, browser_family) %>%\n",
    "  summarise(users = n_distinct(user_id),\n",
    "        attempts = n_distinct(edit_attempt_id)) %>%\n",
    "  arrange(browser_family)\n",
    "\n",
    "head(sessions_bybrowser)"
   ]
  },
  {
   "cell_type": "code",
   "execution_count": 74,
   "metadata": {},
   "outputs": [],
   "source": [
    "sessions_bybrowser$users <- as.numeric(sessions_bybrowser$users)\n",
    "sessions_bybrowser$attempts <- as.numeric(sessions_bybrowser$attempts)"
   ]
  },
  {
   "cell_type": "code",
   "execution_count": 75,
   "metadata": {},
   "outputs": [],
   "source": [
    "sessions_bybrowser$bucket[sessions_bybrowser$bucket == \"default-source\"] <- \"default_source\"\n",
    "sessions_bybrowser$bucket[sessions_bybrowser$bucket == \"default-visual\"] <- \"default_visual\"\n"
   ]
  },
  {
   "cell_type": "code",
   "execution_count": 33,
   "metadata": {},
   "outputs": [
    {
     "data": {
      "image/png": "[encoded data removed]",
      "text/plain": [
       "plot without title"
      ]
     },
     "metadata": {},
     "output_type": "display_data"
    }
   ],
   "source": [
    "# Look at test bucket user counts for top browsers \n",
    "sessions_bybrowser_plot <- sessions_bybrowser %>%\n",
    "  filter(browser_family %in% c('Chrome Mobile', 'Mobile Safari', 'Samsung Internet', 'Chrome', \n",
    "                              'Chrome Mobile WebView', 'UC Browser', 'Opera Mobile', 'Firefox Mobile',\n",
    "                              'Chrome Mobile iOS', 'Facebook', 'Android', 'Mobile Safari UI/WKWebView',\n",
    "                              'Edge Mobile', 'Edge')) %>% # filter to top browsers for plot visibility\n",
    "  ggplot(aes(x= browser_family, y = users, fill = bucket)) +\n",
    "  geom_col() +\n",
    "   scale_y_continuous(\"user counts\") +\n",
    "    labs(title = \"Editor test bucket user counts by browser\") +\n",
    "    ggthemes::theme_tufte(base_size = 10, base_family = \"Gill Sans\") +\n",
    "    theme(axis.text.x=element_text(angle = 45, hjust = 1),\n",
    "        plot.title = element_text(hjust = 0.5),\n",
    "        panel.grid = element_line(\"gray70\"),\n",
    "        legend.position= \"none\")\n",
    "\n",
    "\n",
    "sessions_bybrowser_plot"
   ]
  },
  {
   "cell_type": "markdown",
   "metadata": {},
   "source": [
    "For the major browser types, there is a similar imbalance."
   ]
  },
  {
   "cell_type": "code",
   "execution_count": 102,
   "metadata": {},
   "outputs": [
    {
     "data": {
      "text/html": [
       "<table>\n",
       "<caption>A tibble: 6 × 4</caption>\n",
       "<thead>\n",
       "\t<tr><th scope=col>browser_family</th><th scope=col>default_source</th><th scope=col>default_visual</th><th scope=col>percent_wikitext_users</th></tr>\n",
       "\t<tr><th scope=col>&lt;chr&gt;</th><th scope=col>&lt;dbl&gt;</th><th scope=col>&lt;dbl&gt;</th><th scope=col>&lt;dbl&gt;</th></tr>\n",
       "</thead>\n",
       "<tbody>\n",
       "\t<tr><td>bingbot    </td><td>398</td><td>2</td><td>99.50000</td></tr>\n",
       "\t<tr><td>BingPreview</td><td>377</td><td>7</td><td>98.17708</td></tr>\n",
       "\t<tr><td>NetFront NX</td><td> 18</td><td>1</td><td>94.73684</td></tr>\n",
       "\t<tr><td>Chromium   </td><td>  7</td><td>1</td><td>87.50000</td></tr>\n",
       "\t<tr><td>oBot       </td><td>  3</td><td>1</td><td>75.00000</td></tr>\n",
       "\t<tr><td>Vivaldi    </td><td>  3</td><td>1</td><td>75.00000</td></tr>\n",
       "</tbody>\n",
       "</table>\n"
      ],
      "text/latex": [
       "A tibble: 6 × 4\n",
       "\\begin{tabular}{r|llll}\n",
       " browser\\_family & default\\_source & default\\_visual & percent\\_wikitext\\_users\\\\\n",
       " <chr> & <dbl> & <dbl> & <dbl>\\\\\n",
       "\\hline\n",
       "\t bingbot     & 398 & 2 & 99.50000\\\\\n",
       "\t BingPreview & 377 & 7 & 98.17708\\\\\n",
       "\t NetFront NX &  18 & 1 & 94.73684\\\\\n",
       "\t Chromium    &   7 & 1 & 87.50000\\\\\n",
       "\t oBot        &   3 & 1 & 75.00000\\\\\n",
       "\t Vivaldi     &   3 & 1 & 75.00000\\\\\n",
       "\\end{tabular}\n"
      ],
      "text/markdown": [
       "\n",
       "A tibble: 6 × 4\n",
       "\n",
       "| browser_family &lt;chr&gt; | default_source &lt;dbl&gt; | default_visual &lt;dbl&gt; | percent_wikitext_users &lt;dbl&gt; |\n",
       "|---|---|---|---|\n",
       "| bingbot     | 398 | 2 | 99.50000 |\n",
       "| BingPreview | 377 | 7 | 98.17708 |\n",
       "| NetFront NX |  18 | 1 | 94.73684 |\n",
       "| Chromium    |   7 | 1 | 87.50000 |\n",
       "| oBot        |   3 | 1 | 75.00000 |\n",
       "| Vivaldi     |   3 | 1 | 75.00000 |\n",
       "\n"
      ],
      "text/plain": [
       "  browser_family default_source default_visual percent_wikitext_users\n",
       "1 bingbot        398            2              99.50000              \n",
       "2 BingPreview    377            7              98.17708              \n",
       "3 NetFront NX     18            1              94.73684              \n",
       "4 Chromium         7            1              87.50000              \n",
       "5 oBot             3            1              75.00000              \n",
       "6 Vivaldi          3            1              75.00000              "
      ]
     },
     "metadata": {},
     "output_type": "display_data"
    }
   ],
   "source": [
    "sessions_bybrowser_percent_imbalance <- sessions_bybrowser %>%\n",
    " select(-4)  %>% ##look at user counts only\n",
    " spread(bucket,users) %>% \n",
    " #mutate(percent_diff = round(abs((default_source-default_visual)/default_visual *100), 3)) %>%\n",
    " mutate(percent_wikitext_users = default_source/(default_source + default_visual) *100) %>%\n",
    " arrange(desc(percent_wikitext_users)) \n",
    "\n",
    "head(sessions_bybrowser_percent_imbalance)"
   ]
  },
  {
   "cell_type": "markdown",
   "metadata": {},
   "source": [
    "We do notice some much larger differences in buckets for the smaller browsers. Some of these are just due to the smaller population of overall users; however, there seems to be a signficant difference seeen for Bingbot and BingPreview browsers. These are both web crawling bot browsers, which might be a clue into what is occuring."
   ]
  },
  {
   "cell_type": "markdown",
   "metadata": {},
   "source": [
    "## Check if imbalance is present for a particular country"
   ]
  },
  {
   "cell_type": "code",
   "execution_count": 103,
   "metadata": {},
   "outputs": [
    {
     "data": {
      "text/html": [
       "<table>\n",
       "<caption>A grouped_df: 6 × 4</caption>\n",
       "<thead>\n",
       "\t<tr><th scope=col>bucket</th><th scope=col>country</th><th scope=col>users</th><th scope=col>attempts</th></tr>\n",
       "\t<tr><th scope=col>&lt;chr&gt;</th><th scope=col>&lt;chr&gt;</th><th scope=col>&lt;int&gt;</th><th scope=col>&lt;int&gt;</th></tr>\n",
       "</thead>\n",
       "<tbody>\n",
       "\t<tr><td>default-visual</td><td>Afghanistan</td><td> 53</td><td>  72</td></tr>\n",
       "\t<tr><td>default-source</td><td>Afghanistan</td><td> 56</td><td>  65</td></tr>\n",
       "\t<tr><td>default-visual</td><td>Åland      </td><td>221</td><td> 284</td></tr>\n",
       "\t<tr><td>default-source</td><td>Åland      </td><td>239</td><td> 313</td></tr>\n",
       "\t<tr><td>default-visual</td><td>Albania    </td><td>810</td><td>1073</td></tr>\n",
       "\t<tr><td>default-source</td><td>Albania    </td><td>871</td><td>1145</td></tr>\n",
       "</tbody>\n",
       "</table>\n"
      ],
      "text/latex": [
       "A grouped_df: 6 × 4\n",
       "\\begin{tabular}{r|llll}\n",
       " bucket & country & users & attempts\\\\\n",
       " <chr> & <chr> & <int> & <int>\\\\\n",
       "\\hline\n",
       "\t default-visual & Afghanistan &  53 &   72\\\\\n",
       "\t default-source & Afghanistan &  56 &   65\\\\\n",
       "\t default-visual & Åland       & 221 &  284\\\\\n",
       "\t default-source & Åland       & 239 &  313\\\\\n",
       "\t default-visual & Albania     & 810 & 1073\\\\\n",
       "\t default-source & Albania     & 871 & 1145\\\\\n",
       "\\end{tabular}\n"
      ],
      "text/markdown": [
       "\n",
       "A grouped_df: 6 × 4\n",
       "\n",
       "| bucket &lt;chr&gt; | country &lt;chr&gt; | users &lt;int&gt; | attempts &lt;int&gt; |\n",
       "|---|---|---|---|\n",
       "| default-visual | Afghanistan |  53 |   72 |\n",
       "| default-source | Afghanistan |  56 |   65 |\n",
       "| default-visual | Åland       | 221 |  284 |\n",
       "| default-source | Åland       | 239 |  313 |\n",
       "| default-visual | Albania     | 810 | 1073 |\n",
       "| default-source | Albania     | 871 | 1145 |\n",
       "\n"
      ],
      "text/plain": [
       "  bucket         country     users attempts\n",
       "1 default-visual Afghanistan  53     72    \n",
       "2 default-source Afghanistan  56     65    \n",
       "3 default-visual Åland       221    284    \n",
       "4 default-source Åland       239    313    \n",
       "5 default-visual Albania     810   1073    \n",
       "6 default-source Albania     871   1145    "
      ]
     },
     "metadata": {},
     "output_type": "display_data"
    }
   ],
   "source": [
    "sessions_bycountry <- sessions %>%\n",
    "  group_by(bucket, country) %>%\n",
    "  summarise(users = n_distinct(user_id),\n",
    "        attempts = n_distinct(edit_attempt_id)) %>%\n",
    "  arrange(country, users) \n",
    "\n",
    "head(sessions_bycountry)"
   ]
  },
  {
   "cell_type": "markdown",
   "metadata": {},
   "source": [
    "Unable to isolate to a specific country. A large number of users for each country (around 51%) are added to the wikitext as default bucket."
   ]
  },
  {
   "cell_type": "markdown",
   "metadata": {},
   "source": [
    "There is an imbalance across all countries as well with a higher percentage of users added to the wikitext editor as default. bucket"
   ]
  },
  {
   "cell_type": "markdown",
   "metadata": {},
   "source": [
    "## Check if imbalance is present for a particular wiki"
   ]
  },
  {
   "cell_type": "code",
   "execution_count": 88,
   "metadata": {},
   "outputs": [
    {
     "data": {
      "text/html": [
       "<table>\n",
       "<caption>A grouped_df: 40 × 4</caption>\n",
       "<thead>\n",
       "\t<tr><th scope=col>bucket</th><th scope=col>wiki</th><th scope=col>users</th><th scope=col>attempts</th></tr>\n",
       "\t<tr><th scope=col>&lt;chr&gt;</th><th scope=col>&lt;chr&gt;</th><th scope=col>&lt;int&gt;</th><th scope=col>&lt;int&gt;</th></tr>\n",
       "</thead>\n",
       "<tbody>\n",
       "\t<tr><td>default-source</td><td>azwiki    </td><td> 30959</td><td> 45825</td></tr>\n",
       "\t<tr><td>default-visual</td><td>azwiki    </td><td> 27084</td><td> 39485</td></tr>\n",
       "\t<tr><td>default-source</td><td>bgwiki    </td><td> 36032</td><td> 54248</td></tr>\n",
       "\t<tr><td>default-visual</td><td>bgwiki    </td><td> 34397</td><td> 50781</td></tr>\n",
       "\t<tr><td>default-source</td><td>cawiki    </td><td> 17405</td><td> 23624</td></tr>\n",
       "\t<tr><td>default-visual</td><td>cawiki    </td><td> 16698</td><td> 22615</td></tr>\n",
       "\t<tr><td>default-source</td><td>dawiki    </td><td> 40500</td><td> 51981</td></tr>\n",
       "\t<tr><td>default-visual</td><td>dawiki    </td><td> 38869</td><td> 49837</td></tr>\n",
       "\t<tr><td>default-source</td><td>elwiki    </td><td> 70126</td><td>104277</td></tr>\n",
       "\t<tr><td>default-visual</td><td>elwiki    </td><td> 66026</td><td> 98229</td></tr>\n",
       "\t<tr><td>default-source</td><td>etwiki    </td><td>  9316</td><td> 12977</td></tr>\n",
       "\t<tr><td>default-visual</td><td>etwiki    </td><td>  8893</td><td> 11862</td></tr>\n",
       "\t<tr><td>default-source</td><td>fiwiki    </td><td> 82345</td><td>120946</td></tr>\n",
       "\t<tr><td>default-visual</td><td>fiwiki    </td><td> 79193</td><td>115314</td></tr>\n",
       "\t<tr><td>default-source</td><td>hrwiki    </td><td> 42845</td><td> 58747</td></tr>\n",
       "\t<tr><td>default-visual</td><td>hrwiki    </td><td> 40293</td><td> 55096</td></tr>\n",
       "\t<tr><td>default-source</td><td>huwiki    </td><td> 96830</td><td>140007</td></tr>\n",
       "\t<tr><td>default-visual</td><td>huwiki    </td><td> 93882</td><td>135732</td></tr>\n",
       "\t<tr><td>default-source</td><td>mlwiki    </td><td> 42919</td><td> 64669</td></tr>\n",
       "\t<tr><td>default-visual</td><td>mlwiki    </td><td> 37837</td><td> 55544</td></tr>\n",
       "\t<tr><td>default-source</td><td>mswiki    </td><td> 71688</td><td> 97154</td></tr>\n",
       "\t<tr><td>default-visual</td><td>mswiki    </td><td> 65501</td><td> 88663</td></tr>\n",
       "\t<tr><td>default-source</td><td>nowiki    </td><td> 52394</td><td> 68146</td></tr>\n",
       "\t<tr><td>default-visual</td><td>nowiki    </td><td> 50291</td><td> 65356</td></tr>\n",
       "\t<tr><td>default-source</td><td>ptwiki    </td><td>691554</td><td>994634</td></tr>\n",
       "\t<tr><td>default-visual</td><td>ptwiki    </td><td>645544</td><td>936121</td></tr>\n",
       "\t<tr><td>default-source</td><td>rowiki    </td><td> 76775</td><td>106667</td></tr>\n",
       "\t<tr><td>default-visual</td><td>rowiki    </td><td> 72683</td><td>100104</td></tr>\n",
       "\t<tr><td>default-source</td><td>srwiki    </td><td> 51947</td><td> 78163</td></tr>\n",
       "\t<tr><td>default-visual</td><td>srwiki    </td><td> 48594</td><td> 70192</td></tr>\n",
       "\t<tr><td>default-source</td><td>svwiki    </td><td>125415</td><td>172066</td></tr>\n",
       "\t<tr><td>default-visual</td><td>svwiki    </td><td>122535</td><td>167446</td></tr>\n",
       "\t<tr><td>default-source</td><td>tawiki    </td><td> 82113</td><td>124439</td></tr>\n",
       "\t<tr><td>default-visual</td><td>tawiki    </td><td> 76366</td><td>112996</td></tr>\n",
       "\t<tr><td>default-source</td><td>thwiki    </td><td>250324</td><td>353956</td></tr>\n",
       "\t<tr><td>default-visual</td><td>thwiki    </td><td>226800</td><td>319519</td></tr>\n",
       "\t<tr><td>default-source</td><td>urwiki    </td><td> 10885</td><td> 16939</td></tr>\n",
       "\t<tr><td>default-visual</td><td>urwiki    </td><td>  9567</td><td> 14704</td></tr>\n",
       "\t<tr><td>default-source</td><td>zh_yuewiki</td><td> 18214</td><td> 22139</td></tr>\n",
       "\t<tr><td>default-visual</td><td>zh_yuewiki</td><td> 17209</td><td> 21222</td></tr>\n",
       "</tbody>\n",
       "</table>\n"
      ],
      "text/latex": [
       "A grouped_df: 40 × 4\n",
       "\\begin{tabular}{r|llll}\n",
       " bucket & wiki & users & attempts\\\\\n",
       " <chr> & <chr> & <int> & <int>\\\\\n",
       "\\hline\n",
       "\t default-source & azwiki     &  30959 &  45825\\\\\n",
       "\t default-visual & azwiki     &  27084 &  39485\\\\\n",
       "\t default-source & bgwiki     &  36032 &  54248\\\\\n",
       "\t default-visual & bgwiki     &  34397 &  50781\\\\\n",
       "\t default-source & cawiki     &  17405 &  23624\\\\\n",
       "\t default-visual & cawiki     &  16698 &  22615\\\\\n",
       "\t default-source & dawiki     &  40500 &  51981\\\\\n",
       "\t default-visual & dawiki     &  38869 &  49837\\\\\n",
       "\t default-source & elwiki     &  70126 & 104277\\\\\n",
       "\t default-visual & elwiki     &  66026 &  98229\\\\\n",
       "\t default-source & etwiki     &   9316 &  12977\\\\\n",
       "\t default-visual & etwiki     &   8893 &  11862\\\\\n",
       "\t default-source & fiwiki     &  82345 & 120946\\\\\n",
       "\t default-visual & fiwiki     &  79193 & 115314\\\\\n",
       "\t default-source & hrwiki     &  42845 &  58747\\\\\n",
       "\t default-visual & hrwiki     &  40293 &  55096\\\\\n",
       "\t default-source & huwiki     &  96830 & 140007\\\\\n",
       "\t default-visual & huwiki     &  93882 & 135732\\\\\n",
       "\t default-source & mlwiki     &  42919 &  64669\\\\\n",
       "\t default-visual & mlwiki     &  37837 &  55544\\\\\n",
       "\t default-source & mswiki     &  71688 &  97154\\\\\n",
       "\t default-visual & mswiki     &  65501 &  88663\\\\\n",
       "\t default-source & nowiki     &  52394 &  68146\\\\\n",
       "\t default-visual & nowiki     &  50291 &  65356\\\\\n",
       "\t default-source & ptwiki     & 691554 & 994634\\\\\n",
       "\t default-visual & ptwiki     & 645544 & 936121\\\\\n",
       "\t default-source & rowiki     &  76775 & 106667\\\\\n",
       "\t default-visual & rowiki     &  72683 & 100104\\\\\n",
       "\t default-source & srwiki     &  51947 &  78163\\\\\n",
       "\t default-visual & srwiki     &  48594 &  70192\\\\\n",
       "\t default-source & svwiki     & 125415 & 172066\\\\\n",
       "\t default-visual & svwiki     & 122535 & 167446\\\\\n",
       "\t default-source & tawiki     &  82113 & 124439\\\\\n",
       "\t default-visual & tawiki     &  76366 & 112996\\\\\n",
       "\t default-source & thwiki     & 250324 & 353956\\\\\n",
       "\t default-visual & thwiki     & 226800 & 319519\\\\\n",
       "\t default-source & urwiki     &  10885 &  16939\\\\\n",
       "\t default-visual & urwiki     &   9567 &  14704\\\\\n",
       "\t default-source & zh\\_yuewiki &  18214 &  22139\\\\\n",
       "\t default-visual & zh\\_yuewiki &  17209 &  21222\\\\\n",
       "\\end{tabular}\n"
      ],
      "text/markdown": [
       "\n",
       "A grouped_df: 40 × 4\n",
       "\n",
       "| bucket &lt;chr&gt; | wiki &lt;chr&gt; | users &lt;int&gt; | attempts &lt;int&gt; |\n",
       "|---|---|---|---|\n",
       "| default-source | azwiki     |  30959 |  45825 |\n",
       "| default-visual | azwiki     |  27084 |  39485 |\n",
       "| default-source | bgwiki     |  36032 |  54248 |\n",
       "| default-visual | bgwiki     |  34397 |  50781 |\n",
       "| default-source | cawiki     |  17405 |  23624 |\n",
       "| default-visual | cawiki     |  16698 |  22615 |\n",
       "| default-source | dawiki     |  40500 |  51981 |\n",
       "| default-visual | dawiki     |  38869 |  49837 |\n",
       "| default-source | elwiki     |  70126 | 104277 |\n",
       "| default-visual | elwiki     |  66026 |  98229 |\n",
       "| default-source | etwiki     |   9316 |  12977 |\n",
       "| default-visual | etwiki     |   8893 |  11862 |\n",
       "| default-source | fiwiki     |  82345 | 120946 |\n",
       "| default-visual | fiwiki     |  79193 | 115314 |\n",
       "| default-source | hrwiki     |  42845 |  58747 |\n",
       "| default-visual | hrwiki     |  40293 |  55096 |\n",
       "| default-source | huwiki     |  96830 | 140007 |\n",
       "| default-visual | huwiki     |  93882 | 135732 |\n",
       "| default-source | mlwiki     |  42919 |  64669 |\n",
       "| default-visual | mlwiki     |  37837 |  55544 |\n",
       "| default-source | mswiki     |  71688 |  97154 |\n",
       "| default-visual | mswiki     |  65501 |  88663 |\n",
       "| default-source | nowiki     |  52394 |  68146 |\n",
       "| default-visual | nowiki     |  50291 |  65356 |\n",
       "| default-source | ptwiki     | 691554 | 994634 |\n",
       "| default-visual | ptwiki     | 645544 | 936121 |\n",
       "| default-source | rowiki     |  76775 | 106667 |\n",
       "| default-visual | rowiki     |  72683 | 100104 |\n",
       "| default-source | srwiki     |  51947 |  78163 |\n",
       "| default-visual | srwiki     |  48594 |  70192 |\n",
       "| default-source | svwiki     | 125415 | 172066 |\n",
       "| default-visual | svwiki     | 122535 | 167446 |\n",
       "| default-source | tawiki     |  82113 | 124439 |\n",
       "| default-visual | tawiki     |  76366 | 112996 |\n",
       "| default-source | thwiki     | 250324 | 353956 |\n",
       "| default-visual | thwiki     | 226800 | 319519 |\n",
       "| default-source | urwiki     |  10885 |  16939 |\n",
       "| default-visual | urwiki     |   9567 |  14704 |\n",
       "| default-source | zh_yuewiki |  18214 |  22139 |\n",
       "| default-visual | zh_yuewiki |  17209 |  21222 |\n",
       "\n"
      ],
      "text/plain": [
       "   bucket         wiki       users  attempts\n",
       "1  default-source azwiki      30959  45825  \n",
       "2  default-visual azwiki      27084  39485  \n",
       "3  default-source bgwiki      36032  54248  \n",
       "4  default-visual bgwiki      34397  50781  \n",
       "5  default-source cawiki      17405  23624  \n",
       "6  default-visual cawiki      16698  22615  \n",
       "7  default-source dawiki      40500  51981  \n",
       "8  default-visual dawiki      38869  49837  \n",
       "9  default-source elwiki      70126 104277  \n",
       "10 default-visual elwiki      66026  98229  \n",
       "11 default-source etwiki       9316  12977  \n",
       "12 default-visual etwiki       8893  11862  \n",
       "13 default-source fiwiki      82345 120946  \n",
       "14 default-visual fiwiki      79193 115314  \n",
       "15 default-source hrwiki      42845  58747  \n",
       "16 default-visual hrwiki      40293  55096  \n",
       "17 default-source huwiki      96830 140007  \n",
       "18 default-visual huwiki      93882 135732  \n",
       "19 default-source mlwiki      42919  64669  \n",
       "20 default-visual mlwiki      37837  55544  \n",
       "21 default-source mswiki      71688  97154  \n",
       "22 default-visual mswiki      65501  88663  \n",
       "23 default-source nowiki      52394  68146  \n",
       "24 default-visual nowiki      50291  65356  \n",
       "25 default-source ptwiki     691554 994634  \n",
       "26 default-visual ptwiki     645544 936121  \n",
       "27 default-source rowiki      76775 106667  \n",
       "28 default-visual rowiki      72683 100104  \n",
       "29 default-source srwiki      51947  78163  \n",
       "30 default-visual srwiki      48594  70192  \n",
       "31 default-source svwiki     125415 172066  \n",
       "32 default-visual svwiki     122535 167446  \n",
       "33 default-source tawiki      82113 124439  \n",
       "34 default-visual tawiki      76366 112996  \n",
       "35 default-source thwiki     250324 353956  \n",
       "36 default-visual thwiki     226800 319519  \n",
       "37 default-source urwiki      10885  16939  \n",
       "38 default-visual urwiki       9567  14704  \n",
       "39 default-source zh_yuewiki  18214  22139  \n",
       "40 default-visual zh_yuewiki  17209  21222  "
      ]
     },
     "metadata": {},
     "output_type": "display_data"
    }
   ],
   "source": [
    "\n",
    "sessions_bywiki <- sessions %>%\n",
    "  group_by(bucket, wiki) %>%\n",
    "  summarise(users = n_distinct(user_id),\n",
    "        attempts = n_distinct(edit_attempt_id)) %>%\n",
    "  arrange(wiki) \n",
    "\n",
    "sessions_bywiki"
   ]
  },
  {
   "cell_type": "code",
   "execution_count": 89,
   "metadata": {},
   "outputs": [],
   "source": [
    "sessions_bywiki$users <- as.numeric(sessions_bywiki$users)\n",
    "sessions_bywiki$attempts <- as.numeric(sessions_bywiki$attempts)"
   ]
  },
  {
   "cell_type": "code",
   "execution_count": 90,
   "metadata": {},
   "outputs": [],
   "source": [
    "sessions_bywiki$bucket[sessions_bywiki$bucket == \"default-source\"] <- \"default_source\"\n",
    "sessions_bywiki$bucket[sessions_bywiki$bucket == \"default-visual\"] <- \"default_visual\""
   ]
  },
  {
   "cell_type": "code",
   "execution_count": 91,
   "metadata": {},
   "outputs": [
    {
     "data": {
      "text/html": [
       "<table>\n",
       "<caption>A tibble: 6 × 4</caption>\n",
       "<thead>\n",
       "\t<tr><th scope=col>wiki</th><th scope=col>default_source</th><th scope=col>default_visual</th><th scope=col>percent_wikitext_users</th></tr>\n",
       "\t<tr><th scope=col>&lt;chr&gt;</th><th scope=col>&lt;dbl&gt;</th><th scope=col>&lt;dbl&gt;</th><th scope=col>&lt;dbl&gt;</th></tr>\n",
       "</thead>\n",
       "<tbody>\n",
       "\t<tr><td>azwiki</td><td> 30959</td><td> 27084</td><td>53.33804</td></tr>\n",
       "\t<tr><td>urwiki</td><td> 10885</td><td>  9567</td><td>53.22218</td></tr>\n",
       "\t<tr><td>mlwiki</td><td> 42919</td><td> 37837</td><td>53.14652</td></tr>\n",
       "\t<tr><td>thwiki</td><td>250324</td><td>226800</td><td>52.46519</td></tr>\n",
       "\t<tr><td>mswiki</td><td> 71688</td><td> 65501</td><td>52.25492</td></tr>\n",
       "\t<tr><td>tawiki</td><td> 82113</td><td> 76366</td><td>51.81317</td></tr>\n",
       "</tbody>\n",
       "</table>\n"
      ],
      "text/latex": [
       "A tibble: 6 × 4\n",
       "\\begin{tabular}{r|llll}\n",
       " wiki & default\\_source & default\\_visual & percent\\_wikitext\\_users\\\\\n",
       " <chr> & <dbl> & <dbl> & <dbl>\\\\\n",
       "\\hline\n",
       "\t azwiki &  30959 &  27084 & 53.33804\\\\\n",
       "\t urwiki &  10885 &   9567 & 53.22218\\\\\n",
       "\t mlwiki &  42919 &  37837 & 53.14652\\\\\n",
       "\t thwiki & 250324 & 226800 & 52.46519\\\\\n",
       "\t mswiki &  71688 &  65501 & 52.25492\\\\\n",
       "\t tawiki &  82113 &  76366 & 51.81317\\\\\n",
       "\\end{tabular}\n"
      ],
      "text/markdown": [
       "\n",
       "A tibble: 6 × 4\n",
       "\n",
       "| wiki &lt;chr&gt; | default_source &lt;dbl&gt; | default_visual &lt;dbl&gt; | percent_wikitext_users &lt;dbl&gt; |\n",
       "|---|---|---|---|\n",
       "| azwiki |  30959 |  27084 | 53.33804 |\n",
       "| urwiki |  10885 |   9567 | 53.22218 |\n",
       "| mlwiki |  42919 |  37837 | 53.14652 |\n",
       "| thwiki | 250324 | 226800 | 52.46519 |\n",
       "| mswiki |  71688 |  65501 | 52.25492 |\n",
       "| tawiki |  82113 |  76366 | 51.81317 |\n",
       "\n"
      ],
      "text/plain": [
       "  wiki   default_source default_visual percent_wikitext_users\n",
       "1 azwiki  30959          27084         53.33804              \n",
       "2 urwiki  10885           9567         53.22218              \n",
       "3 mlwiki  42919          37837         53.14652              \n",
       "4 thwiki 250324         226800         52.46519              \n",
       "5 mswiki  71688          65501         52.25492              \n",
       "6 tawiki  82113          76366         51.81317              "
      ]
     },
     "metadata": {},
     "output_type": "display_data"
    }
   ],
   "source": [
    "sessions_bywiki_percent_imbalance <- sessions_bywiki %>%\n",
    " select(-4)  %>% ##look at user counts only\n",
    " spread(bucket,users) %>% \n",
    " #mutate(percent_diff = round(abs((default_source-default_visual)/default_visual *100), 3)) %>%\n",
    " mutate(percent_wikitext_users = default_source/(default_source + default_visual) *100) %>%\n",
    " arrange(desc(percent_wikitext_users)) \n",
    "\n",
    "head(sessions_bywiki_percent_imbalance)"
   ]
  },
  {
   "cell_type": "code",
   "execution_count": null,
   "metadata": {},
   "outputs": [],
   "source": [
    "Unable to isolate the imblance to a particular wiki. Similar imblance trends seen."
   ]
  },
  {
   "cell_type": "markdown",
   "metadata": {},
   "source": [
    "## Check if imbalance is present for a particular action\n",
    "\n",
    "Based on earlier result, we should see an imblance across all actions as well but just want to confirm.  "
   ]
  },
  {
   "cell_type": "code",
   "execution_count": 95,
   "metadata": {},
   "outputs": [
    {
     "data": {
      "text/html": [
       "<table>\n",
       "<caption>A grouped_df: 16 × 4</caption>\n",
       "<thead>\n",
       "\t<tr><th scope=col>bucket</th><th scope=col>action</th><th scope=col>users</th><th scope=col>attempts</th></tr>\n",
       "\t<tr><th scope=col>&lt;chr&gt;</th><th scope=col>&lt;chr&gt;</th><th scope=col>&lt;int&gt;</th><th scope=col>&lt;int&gt;</th></tr>\n",
       "</thead>\n",
       "<tbody>\n",
       "\t<tr><td>default-source</td><td>abort      </td><td>1387151</td><td>1763603</td></tr>\n",
       "\t<tr><td>default-visual</td><td>abort      </td><td> 835965</td><td> 998167</td></tr>\n",
       "\t<tr><td>default-source</td><td>init       </td><td>1906751</td><td>2720469</td></tr>\n",
       "\t<tr><td>default-visual</td><td>init       </td><td>1784041</td><td>2539217</td></tr>\n",
       "\t<tr><td>default-source</td><td>loaded     </td><td>1903903</td><td>2708243</td></tr>\n",
       "\t<tr><td>default-visual</td><td>loaded     </td><td>1256521</td><td>1708057</td></tr>\n",
       "\t<tr><td>default-source</td><td>ready      </td><td>1904072</td><td>2708547</td></tr>\n",
       "\t<tr><td>default-visual</td><td>ready      </td><td>1256752</td><td>1708386</td></tr>\n",
       "\t<tr><td>default-source</td><td>saveAttempt</td><td>  32690</td><td>  88018</td></tr>\n",
       "\t<tr><td>default-visual</td><td>saveAttempt</td><td>  27793</td><td>  73583</td></tr>\n",
       "\t<tr><td>default-source</td><td>saveFailure</td><td>   8501</td><td>  12529</td></tr>\n",
       "\t<tr><td>default-visual</td><td>saveFailure</td><td>   7635</td><td>  11097</td></tr>\n",
       "\t<tr><td>default-source</td><td>saveIntent </td><td>  37941</td><td>  98970</td></tr>\n",
       "\t<tr><td>default-visual</td><td>saveIntent </td><td>  31076</td><td>  79918</td></tr>\n",
       "\t<tr><td>default-source</td><td>saveSuccess</td><td>  28372</td><td>  78882</td></tr>\n",
       "\t<tr><td>default-visual</td><td>saveSuccess</td><td>  24132</td><td>  66269</td></tr>\n",
       "</tbody>\n",
       "</table>\n"
      ],
      "text/latex": [
       "A grouped_df: 16 × 4\n",
       "\\begin{tabular}{r|llll}\n",
       " bucket & action & users & attempts\\\\\n",
       " <chr> & <chr> & <int> & <int>\\\\\n",
       "\\hline\n",
       "\t default-source & abort       & 1387151 & 1763603\\\\\n",
       "\t default-visual & abort       &  835965 &  998167\\\\\n",
       "\t default-source & init        & 1906751 & 2720469\\\\\n",
       "\t default-visual & init        & 1784041 & 2539217\\\\\n",
       "\t default-source & loaded      & 1903903 & 2708243\\\\\n",
       "\t default-visual & loaded      & 1256521 & 1708057\\\\\n",
       "\t default-source & ready       & 1904072 & 2708547\\\\\n",
       "\t default-visual & ready       & 1256752 & 1708386\\\\\n",
       "\t default-source & saveAttempt &   32690 &   88018\\\\\n",
       "\t default-visual & saveAttempt &   27793 &   73583\\\\\n",
       "\t default-source & saveFailure &    8501 &   12529\\\\\n",
       "\t default-visual & saveFailure &    7635 &   11097\\\\\n",
       "\t default-source & saveIntent  &   37941 &   98970\\\\\n",
       "\t default-visual & saveIntent  &   31076 &   79918\\\\\n",
       "\t default-source & saveSuccess &   28372 &   78882\\\\\n",
       "\t default-visual & saveSuccess &   24132 &   66269\\\\\n",
       "\\end{tabular}\n"
      ],
      "text/markdown": [
       "\n",
       "A grouped_df: 16 × 4\n",
       "\n",
       "| bucket &lt;chr&gt; | action &lt;chr&gt; | users &lt;int&gt; | attempts &lt;int&gt; |\n",
       "|---|---|---|---|\n",
       "| default-source | abort       | 1387151 | 1763603 |\n",
       "| default-visual | abort       |  835965 |  998167 |\n",
       "| default-source | init        | 1906751 | 2720469 |\n",
       "| default-visual | init        | 1784041 | 2539217 |\n",
       "| default-source | loaded      | 1903903 | 2708243 |\n",
       "| default-visual | loaded      | 1256521 | 1708057 |\n",
       "| default-source | ready       | 1904072 | 2708547 |\n",
       "| default-visual | ready       | 1256752 | 1708386 |\n",
       "| default-source | saveAttempt |   32690 |   88018 |\n",
       "| default-visual | saveAttempt |   27793 |   73583 |\n",
       "| default-source | saveFailure |    8501 |   12529 |\n",
       "| default-visual | saveFailure |    7635 |   11097 |\n",
       "| default-source | saveIntent  |   37941 |   98970 |\n",
       "| default-visual | saveIntent  |   31076 |   79918 |\n",
       "| default-source | saveSuccess |   28372 |   78882 |\n",
       "| default-visual | saveSuccess |   24132 |   66269 |\n",
       "\n"
      ],
      "text/plain": [
       "   bucket         action      users   attempts\n",
       "1  default-source abort       1387151 1763603 \n",
       "2  default-visual abort        835965  998167 \n",
       "3  default-source init        1906751 2720469 \n",
       "4  default-visual init        1784041 2539217 \n",
       "5  default-source loaded      1903903 2708243 \n",
       "6  default-visual loaded      1256521 1708057 \n",
       "7  default-source ready       1904072 2708547 \n",
       "8  default-visual ready       1256752 1708386 \n",
       "9  default-source saveAttempt   32690   88018 \n",
       "10 default-visual saveAttempt   27793   73583 \n",
       "11 default-source saveFailure    8501   12529 \n",
       "12 default-visual saveFailure    7635   11097 \n",
       "13 default-source saveIntent    37941   98970 \n",
       "14 default-visual saveIntent    31076   79918 \n",
       "15 default-source saveSuccess   28372   78882 \n",
       "16 default-visual saveSuccess   24132   66269 "
      ]
     },
     "metadata": {},
     "output_type": "display_data"
    }
   ],
   "source": [
    "sessions_byaction <- sessions %>%\n",
    "  group_by(bucket, action) %>%\n",
    "  summarise(users = n_distinct(user_id),\n",
    "        attempts = n_distinct(edit_attempt_id)) %>%\n",
    "  arrange(action) \n",
    "\n",
    "sessions_byaction"
   ]
  },
  {
   "cell_type": "markdown",
   "metadata": {},
   "source": [
    "Confirmed. There is an imbalance across all actions as well ranging from about 51% to 54%."
   ]
  },
  {
   "cell_type": "markdown",
   "metadata": {},
   "source": [
    "## Summary of Initial Findings\n",
    "\n",
    "1. Unable to isolate the imbalance to one of the following subgroups  (user group (registered or anonymous), country, wiki or event action). Across all these groups, there were a similar imbalance between the wikitext and visual editor buckets  with higher number of users (around 51 to 54%) being placed in the wikitext bucket. \n",
    "2. These was also a similar imbalance across all of the major browsers; however, there seems to be a signficant difference between the wikitext and visual editor buckets for Bingbot and BingPreview browsers. For Bingbot, about 98% of 384 users were placed in the wikitext ad default bucket. These are both web crawling bot browsers. This imbalance wouldn't account for the total imbalance we are seeing in overall users but it might be a clue into where the issue is happening. \n",
    "3.   Since we're seeing the same imbalance towards the wikitext buckets across these various dimensions, it seems likely that this might be either a load time issue or an issue with the method of bucket assigment. \n",
    "\n",
    "Potential areas to investigate further: load time issue?\n",
    "Can we confirm that both buckets assigned on the server side?  Are they assigned at the same time an init event is recorded on the server? If for some reason, wikitext bucket is assigned on the server side and visual editor on the client side, than that delay might be why we are seeing fewing people in the visual editor buckets.\n",
    "\n"
   ]
  },
  {
   "cell_type": "code",
   "execution_count": null,
   "metadata": {},
   "outputs": [],
   "source": []
  }
 ],
 "metadata": {
  "kernelspec": {
   "display_name": "R",
   "language": "R",
   "name": "ir"
  },
  "language_info": {
   "codemirror_mode": "r",
   "file_extension": ".r",
   "mimetype": "text/x-r-source",
   "name": "R",
   "pygments_lexer": "r",
   "version": "3.3.3"
  }
 },
 "nbformat": 4,
 "nbformat_minor": 2
}
