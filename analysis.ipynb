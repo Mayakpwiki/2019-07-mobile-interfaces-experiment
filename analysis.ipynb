{
 "cells": [
  {
   "cell_type": "code",
   "execution_count": 5,
   "metadata": {},
   "outputs": [],
   "source": [
    "from time import perf_counter\n",
    "\n",
    "import matplotlib.pyplot as plt\n",
    "from matplotlib.ticker import StrMethodFormatter\n",
    "import numpy as np\n",
    "import pandas as pd\n",
    "from tabulate import tabulate\n",
    "from wmfdata import charting, hive\n",
    "from wmfdata.charting import comma_fmt, pct_fmt\n",
    "from wmfdata.utils import df_to_remarkup, pct_str"
   ]
  },
  {
   "cell_type": "markdown",
   "metadata": {},
   "source": [
    "We are using the data starting on 14 July, after all our significant data quality issues were fixed."
   ]
  },
  {
   "cell_type": "markdown",
   "metadata": {},
   "source": [
    "# Collecting data"
   ]
  },
  {
   "cell_type": "markdown",
   "metadata": {},
   "source": [
    "Let's do the grouping into sessions and users in Hive since it takes a *loooong* time in Pandas."
   ]
  },
  {
   "cell_type": "code",
   "execution_count": 2,
   "metadata": {},
   "outputs": [
    {
     "ename": "UnboundLocalError",
     "evalue": "local variable 'hive_conn' referenced before assignment",
     "output_type": "error",
     "traceback": [
      "\u001b[0;31m---------------------------------------------------------------------------\u001b[0m",
      "\u001b[0;31mAttributeError\u001b[0m                            Traceback (most recent call last)",
      "\u001b[0;32m/srv/home/neilpquinn-wmf/pkg/wmfdata/wmfdata/hive.py\u001b[0m in \u001b[0;36mrun\u001b[0;34m(cmds, fmt)\u001b[0m\n\u001b[1;32m     24\u001b[0m     \u001b[0;32mtry\u001b[0m\u001b[0;34m:\u001b[0m\u001b[0;34m\u001b[0m\u001b[0m\n\u001b[0;32m---> 25\u001b[0;31m         \u001b[0mhive_conn\u001b[0m \u001b[0;34m=\u001b[0m \u001b[0mimpala_conn\u001b[0m\u001b[0;34m(\u001b[0m\u001b[0mhost\u001b[0m\u001b[0;34m=\u001b[0m\u001b[0;34m'an-coord1001.eqiad.wmnet'\u001b[0m\u001b[0;34m,\u001b[0m \u001b[0mport\u001b[0m\u001b[0;34m=\u001b[0m\u001b[0;36m10000\u001b[0m\u001b[0;34m,\u001b[0m \u001b[0mauth_mechanism\u001b[0m\u001b[0;34m=\u001b[0m\u001b[0;34m'PLAIN'\u001b[0m\u001b[0;34m)\u001b[0m\u001b[0;34m\u001b[0m\u001b[0m\n\u001b[0m\u001b[1;32m     26\u001b[0m         \u001b[0mhive_cursor\u001b[0m \u001b[0;34m=\u001b[0m \u001b[0mhive_conn\u001b[0m\u001b[0;34m.\u001b[0m\u001b[0mcursor\u001b[0m\u001b[0;34m(\u001b[0m\u001b[0;34m)\u001b[0m\u001b[0;34m\u001b[0m\u001b[0m\n",
      "\u001b[0;32m~/venv/lib/python3.5/site-packages/impala/dbapi.py\u001b[0m in \u001b[0;36mconnect\u001b[0;34m(host, port, database, timeout, use_ssl, ca_cert, auth_mechanism, user, password, kerberos_service_name, use_ldap, ldap_user, ldap_password, use_kerberos, protocol)\u001b[0m\n\u001b[1;32m    146\u001b[0m                           \u001b[0mkerberos_service_name\u001b[0m\u001b[0;34m=\u001b[0m\u001b[0mkerberos_service_name\u001b[0m\u001b[0;34m,\u001b[0m\u001b[0;34m\u001b[0m\u001b[0m\n\u001b[0;32m--> 147\u001b[0;31m                           auth_mechanism=auth_mechanism)\n\u001b[0m\u001b[1;32m    148\u001b[0m     \u001b[0;32mreturn\u001b[0m \u001b[0mhs2\u001b[0m\u001b[0;34m.\u001b[0m\u001b[0mHiveServer2Connection\u001b[0m\u001b[0;34m(\u001b[0m\u001b[0mservice\u001b[0m\u001b[0;34m,\u001b[0m \u001b[0mdefault_db\u001b[0m\u001b[0;34m=\u001b[0m\u001b[0mdatabase\u001b[0m\u001b[0;34m)\u001b[0m\u001b[0;34m\u001b[0m\u001b[0m\n",
      "\u001b[0;32m~/venv/lib/python3.5/site-packages/impala/hiveserver2.py\u001b[0m in \u001b[0;36mconnect\u001b[0;34m(host, port, timeout, use_ssl, ca_cert, user, password, kerberos_service_name, auth_mechanism)\u001b[0m\n\u001b[1;32m    757\u001b[0m                               auth_mechanism, user, password)\n\u001b[0;32m--> 758\u001b[0;31m     \u001b[0mtransport\u001b[0m\u001b[0;34m.\u001b[0m\u001b[0mopen\u001b[0m\u001b[0;34m(\u001b[0m\u001b[0;34m)\u001b[0m\u001b[0;34m\u001b[0m\u001b[0m\n\u001b[0m\u001b[1;32m    759\u001b[0m     \u001b[0mprotocol\u001b[0m \u001b[0;34m=\u001b[0m \u001b[0mTBinaryProtocol\u001b[0m\u001b[0;34m(\u001b[0m\u001b[0mtransport\u001b[0m\u001b[0;34m)\u001b[0m\u001b[0;34m\u001b[0m\u001b[0m\n",
      "\u001b[0;32m~/venv/lib/python3.5/site-packages/thrift_sasl/__init__.py\u001b[0m in \u001b[0;36mopen\u001b[0;34m(self)\u001b[0m\n\u001b[1;32m     66\u001b[0m   \u001b[0;32mdef\u001b[0m \u001b[0mopen\u001b[0m\u001b[0;34m(\u001b[0m\u001b[0mself\u001b[0m\u001b[0;34m)\u001b[0m\u001b[0;34m:\u001b[0m\u001b[0;34m\u001b[0m\u001b[0m\n\u001b[0;32m---> 67\u001b[0;31m     \u001b[0;32mif\u001b[0m \u001b[0;32mnot\u001b[0m \u001b[0mself\u001b[0m\u001b[0;34m.\u001b[0m\u001b[0m_trans\u001b[0m\u001b[0;34m.\u001b[0m\u001b[0misOpen\u001b[0m\u001b[0;34m(\u001b[0m\u001b[0;34m)\u001b[0m\u001b[0;34m:\u001b[0m\u001b[0;34m\u001b[0m\u001b[0m\n\u001b[0m\u001b[1;32m     68\u001b[0m       \u001b[0mself\u001b[0m\u001b[0;34m.\u001b[0m\u001b[0m_trans\u001b[0m\u001b[0;34m.\u001b[0m\u001b[0mopen\u001b[0m\u001b[0;34m(\u001b[0m\u001b[0;34m)\u001b[0m\u001b[0;34m\u001b[0m\u001b[0m\n",
      "\u001b[0;31mAttributeError\u001b[0m: 'TSocket' object has no attribute 'isOpen'",
      "\nDuring handling of the above exception, another exception occurred:\n",
      "\u001b[0;31mUnboundLocalError\u001b[0m                         Traceback (most recent call last)",
      "\u001b[0;32m<ipython-input-2-97c7075565c5>\u001b[0m in \u001b[0;36m<module>\u001b[0;34m()\u001b[0m\n\u001b[1;32m     30\u001b[0m     \u001b[0mevent\u001b[0m\u001b[0;34m.\u001b[0m\u001b[0manonymous_user_token\u001b[0m\u001b[0;34m,\u001b[0m\u001b[0;34m\u001b[0m\u001b[0m\n\u001b[1;32m     31\u001b[0m     \u001b[0mevent\u001b[0m\u001b[0;34m.\u001b[0m\u001b[0mbucket\u001b[0m\u001b[0;34m\u001b[0m\u001b[0m\n\u001b[0;32m---> 32\u001b[0;31m \"\"\").assign(\n\u001b[0m\u001b[1;32m     33\u001b[0m     \u001b[0mstart_dt\u001b[0m\u001b[0;34m=\u001b[0m\u001b[0;32mlambda\u001b[0m \u001b[0mdf\u001b[0m\u001b[0;34m:\u001b[0m \u001b[0mpd\u001b[0m\u001b[0;34m.\u001b[0m\u001b[0mto_datetime\u001b[0m\u001b[0;34m(\u001b[0m\u001b[0mdf\u001b[0m\u001b[0;34m[\u001b[0m\u001b[0;34m\"start_dt\"\u001b[0m\u001b[0;34m]\u001b[0m\u001b[0;34m)\u001b[0m\u001b[0;34m,\u001b[0m\u001b[0;34m\u001b[0m\u001b[0m\n\u001b[1;32m     34\u001b[0m     \u001b[0mwiki\u001b[0m\u001b[0;34m=\u001b[0m\u001b[0;32mlambda\u001b[0m \u001b[0mdf\u001b[0m\u001b[0;34m:\u001b[0m \u001b[0mdf\u001b[0m\u001b[0;34m[\u001b[0m\u001b[0;34m\"wiki\"\u001b[0m\u001b[0;34m]\u001b[0m\u001b[0;34m.\u001b[0m\u001b[0mastype\u001b[0m\u001b[0;34m(\u001b[0m\u001b[0;34m\"category\"\u001b[0m\u001b[0;34m)\u001b[0m\u001b[0;34m,\u001b[0m\u001b[0;34m\u001b[0m\u001b[0m\n",
      "\u001b[0;32m/srv/home/neilpquinn-wmf/pkg/wmfdata/wmfdata/hive.py\u001b[0m in \u001b[0;36mrun\u001b[0;34m(cmds, fmt)\u001b[0m\n\u001b[1;32m     37\u001b[0m                 \u001b[0mresult\u001b[0m \u001b[0;34m=\u001b[0m \u001b[0mhive_cursor\u001b[0m\u001b[0;34m.\u001b[0m\u001b[0mfetchall\u001b[0m\u001b[0;34m(\u001b[0m\u001b[0;34m)\u001b[0m\u001b[0;34m\u001b[0m\u001b[0m\n\u001b[1;32m     38\u001b[0m     \u001b[0;32mfinally\u001b[0m\u001b[0;34m:\u001b[0m\u001b[0;34m\u001b[0m\u001b[0m\n\u001b[0;32m---> 39\u001b[0;31m         \u001b[0mhive_conn\u001b[0m\u001b[0;34m.\u001b[0m\u001b[0mclose\u001b[0m\u001b[0;34m(\u001b[0m\u001b[0;34m)\u001b[0m\u001b[0;34m\u001b[0m\u001b[0m\n\u001b[0m\u001b[1;32m     40\u001b[0m \u001b[0;34m\u001b[0m\u001b[0m\n\u001b[1;32m     41\u001b[0m     \u001b[0;32mreturn\u001b[0m \u001b[0mresult\u001b[0m\u001b[0;34m\u001b[0m\u001b[0m\n",
      "\u001b[0;31mUnboundLocalError\u001b[0m: local variable 'hive_conn' referenced before assignment"
     ]
    }
   ],
   "source": [
    "sessions = hive.run(\"\"\"\n",
    "select\n",
    "    event.editing_session_id as edit_attempt_id,\n",
    "    wiki,\n",
    "    event.platform,\n",
    "    collect_list(event.editor_interface) as interface,\n",
    "    -- User IDs are not unique across wikis\n",
    "    if(event.user_id != 0, concat(wiki, \"-\", event.user_id), event.anonymous_user_token) as user_id,\n",
    "    event.bucket,\n",
    "    event.user_id = 0 as user_is_anonymous,\n",
    "    event.user_editcount as user_edit_count,\n",
    "    max(event.revision_id) as max_rev_id,\n",
    "    sum(cast(event.action = \"ready\" as int)) >= 1 as ready,\n",
    "    sum(cast(event.action = \"saveSuccess\" as int)) >= 1 as completed,\n",
    "    min(dt) as start_dt,\n",
    "    unix_timestamp(max(dt), \"yyyy-MM-dd'T'HH:mm:ss'Z'\") - unix_timestamp(min(dt), \"yyyy-MM-dd'T'HH:mm:ss'Z'\") as duration\n",
    "from event.editattemptstep\n",
    "where\n",
    "    event.bucket in ('default-visual', 'default-source') and\n",
    "    year = 2019 and (\n",
    "        month = 7 and day >= 14 or\n",
    "        month >= 8\n",
    "    )\n",
    "group by\n",
    "    event.editing_session_id,\n",
    "    wiki,\n",
    "    event.platform,\n",
    "    event.user_id,\n",
    "    event.user_editcount,\n",
    "    event.anonymous_user_token,\n",
    "    event.bucket\n",
    "\"\"\").assign(\n",
    "    start_dt=lambda df: pd.to_datetime(df[\"start_dt\"]),\n",
    "    wiki=lambda df: df[\"wiki\"].astype(\"category\"),\n",
    "    platform=lambda df: df[\"platform\"].astype(\"category\"),\n",
    "    bucket=lambda df: df[\"bucket\"].astype(\"category\")\n",
    ")\n",
    "\n",
    "# Ensure that including extra data in the group by hasn't broken any sessions into multiple rows\n",
    "assert sessions[\"edit_attempt_id\"].is_unique\n",
    "\n",
    "sessions.info()"
   ]
  },
  {
   "cell_type": "markdown",
   "metadata": {},
   "source": [
    "There seems to be a pretty big imbalance in the number bucketed users and attempts. That doesn't seem right, but it's unclear what we can actually do about it."
   ]
  },
  {
   "cell_type": "code",
   "execution_count": 207,
   "metadata": {},
   "outputs": [
    {
     "data": {
      "text/html": [
       "<style  type=\"text/css\" >\n",
       "</style><table id=\"T_18916ca2_c8de_11e9_81a7_d094661b49a6\" ><thead>    <tr>        <th class=\"blank level0\" ></th>        <th class=\"col_heading level0 col0\" >attempts</th>        <th class=\"col_heading level0 col1\" >users</th>    </tr>    <tr>        <th class=\"index_name level0\" >bucket</th>        <th class=\"blank\" ></th>        <th class=\"blank\" ></th>    </tr></thead><tbody>\n",
       "                <tr>\n",
       "                        <th id=\"T_18916ca2_c8de_11e9_81a7_d094661b49a6level0_row0\" class=\"row_heading level0 row0\" >default-source</th>\n",
       "                        <td id=\"T_18916ca2_c8de_11e9_81a7_d094661b49a6row0_col0\" class=\"data row0 col0\" >1,822,026</td>\n",
       "                        <td id=\"T_18916ca2_c8de_11e9_81a7_d094661b49a6row0_col1\" class=\"data row0 col1\" >1,302,187</td>\n",
       "            </tr>\n",
       "            <tr>\n",
       "                        <th id=\"T_18916ca2_c8de_11e9_81a7_d094661b49a6level0_row1\" class=\"row_heading level0 row1\" >default-visual</th>\n",
       "                        <td id=\"T_18916ca2_c8de_11e9_81a7_d094661b49a6row1_col0\" class=\"data row1 col0\" >1,704,482</td>\n",
       "                        <td id=\"T_18916ca2_c8de_11e9_81a7_d094661b49a6row1_col1\" class=\"data row1 col1\" >1,214,917</td>\n",
       "            </tr>\n",
       "    </tbody></table>"
      ],
      "text/plain": [
       "<pandas.io.formats.style.Styler at 0x7f02cc3a4320>"
      ]
     },
     "execution_count": 207,
     "metadata": {},
     "output_type": "execute_result"
    }
   ],
   "source": [
    "sessions.groupby(\"bucket\").agg(\n",
    "    users=(\"user_id\", \"nunique\"),\n",
    "    attempts=(\"edit_attempt_id\", len)\n",
    ").style.format(\"{:,.0f}\")"
   ]
  },
  {
   "cell_type": "code",
   "execution_count": 210,
   "metadata": {},
   "outputs": [
    {
     "name": "stdout",
     "output_type": "stream",
     "text": [
      "Completed in 0.3 min.\n"
     ]
    }
   ],
   "source": [
    "start = perf_counter()\n",
    "\n",
    "users = sessions.assign(\n",
    "    bucket=lambda df: df[\"bucket\"].astype(object) # Work around Pandas bug aggregating categorical fields\n",
    ").groupby(\"user_id\").agg(\n",
    "    attempts=(\"edit_attempt_id\", \"nunique\"),\n",
    "    ready_attempts=(\"ready\", \"sum\"),\n",
    "    completed_attempts=(\"completed\", \"sum\"),\n",
    "    is_anonymous=(\"user_is_anonymous\", \"first\"),\n",
    "    bucket=(\"bucket\", \"first\"),\n",
    "    avg_duration=(\"duration\", \"mean\")\n",
    ").assign(\n",
    "    ready_rate=lambda df: df[\"ready_attempts\"] / df[\"attempts\"],\n",
    "    completion_rate=lambda df: df[\"completed_attempts\"] / df[\"ready_attempts\"]\n",
    ")\n",
    "\n",
    "elapsed_time = perf_counter() - start\n",
    "\n",
    "print(\"Completed in {:.1f} min.\".format(elapsed_time / 60))"
   ]
  },
  {
   "cell_type": "code",
   "execution_count": 211,
   "metadata": {},
   "outputs": [],
   "source": [
    "# We have some infinite completion rate because the users have saves but no readies\n",
    "users = users.replace([np.inf, -np.inf], np.nan)"
   ]
  },
  {
   "cell_type": "markdown",
   "metadata": {},
   "source": [
    "# Group by bug\n",
    "\n",
    "https://github.com/pandas-dev/pandas/issues/27800"
   ]
  },
  {
   "cell_type": "code",
   "execution_count": 183,
   "metadata": {},
   "outputs": [
    {
     "data": {
      "text/html": [
       "<div>\n",
       "<style scoped>\n",
       "    .dataframe tbody tr th:only-of-type {\n",
       "        vertical-align: middle;\n",
       "    }\n",
       "\n",
       "    .dataframe tbody tr th {\n",
       "        vertical-align: top;\n",
       "    }\n",
       "\n",
       "    .dataframe thead th {\n",
       "        text-align: right;\n",
       "    }\n",
       "</style>\n",
       "<table border=\"1\" class=\"dataframe\">\n",
       "  <thead>\n",
       "    <tr style=\"text-align: right;\">\n",
       "      <th></th>\n",
       "      <th>user_is_anonymous</th>\n",
       "    </tr>\n",
       "    <tr>\n",
       "      <th>user_id</th>\n",
       "      <th></th>\n",
       "    </tr>\n",
       "  </thead>\n",
       "  <tbody>\n",
       "    <tr>\n",
       "      <th>00005eececf789cffb2a9b7216fa4115</th>\n",
       "      <td>True</td>\n",
       "    </tr>\n",
       "    <tr>\n",
       "      <th>0005c9f5898dbaf5380fa365aa702bff</th>\n",
       "      <td>True</td>\n",
       "    </tr>\n",
       "    <tr>\n",
       "      <th>000a0a1dbee10136ba77b6401f9f71be</th>\n",
       "      <td>True</td>\n",
       "    </tr>\n",
       "    <tr>\n",
       "      <th>0013f3a8d69c67390f8f143691e8387f</th>\n",
       "      <td>True</td>\n",
       "    </tr>\n",
       "    <tr>\n",
       "      <th>0014ee6476a15e409d26f590704353aa</th>\n",
       "      <td>True</td>\n",
       "    </tr>\n",
       "  </tbody>\n",
       "</table>\n",
       "</div>"
      ],
      "text/plain": [
       "                                  user_is_anonymous\n",
       "user_id                                            \n",
       "00005eececf789cffb2a9b7216fa4115               True\n",
       "0005c9f5898dbaf5380fa365aa702bff               True\n",
       "000a0a1dbee10136ba77b6401f9f71be               True\n",
       "0013f3a8d69c67390f8f143691e8387f               True\n",
       "0014ee6476a15e409d26f590704353aa               True"
      ]
     },
     "execution_count": 183,
     "metadata": {},
     "output_type": "execute_result"
    }
   ],
   "source": [
    "sessions_sample.groupby(\"user_id\").agg({\"user_is_anonymous\": \"first\"}).head()"
   ]
  },
  {
   "cell_type": "code",
   "execution_count": 184,
   "metadata": {},
   "outputs": [
    {
     "data": {
      "text/html": [
       "<div>\n",
       "<style scoped>\n",
       "    .dataframe tbody tr th:only-of-type {\n",
       "        vertical-align: middle;\n",
       "    }\n",
       "\n",
       "    .dataframe tbody tr th {\n",
       "        vertical-align: top;\n",
       "    }\n",
       "\n",
       "    .dataframe thead th {\n",
       "        text-align: right;\n",
       "    }\n",
       "</style>\n",
       "<table border=\"1\" class=\"dataframe\">\n",
       "  <thead>\n",
       "    <tr style=\"text-align: right;\">\n",
       "      <th></th>\n",
       "      <th>bucket</th>\n",
       "    </tr>\n",
       "  </thead>\n",
       "  <tbody>\n",
       "    <tr>\n",
       "      <th>0</th>\n",
       "      <td>default-source</td>\n",
       "    </tr>\n",
       "    <tr>\n",
       "      <th>1</th>\n",
       "      <td>default-visual</td>\n",
       "    </tr>\n",
       "    <tr>\n",
       "      <th>2</th>\n",
       "      <td>default-visual</td>\n",
       "    </tr>\n",
       "    <tr>\n",
       "      <th>3</th>\n",
       "      <td>default-source</td>\n",
       "    </tr>\n",
       "    <tr>\n",
       "      <th>4</th>\n",
       "      <td>default-source</td>\n",
       "    </tr>\n",
       "  </tbody>\n",
       "</table>\n",
       "</div>"
      ],
      "text/plain": [
       "           bucket\n",
       "0  default-source\n",
       "1  default-visual\n",
       "2  default-visual\n",
       "3  default-source\n",
       "4  default-source"
      ]
     },
     "execution_count": 184,
     "metadata": {},
     "output_type": "execute_result"
    }
   ],
   "source": [
    "sessions_sample.groupby(\"user_id\").agg({\"bucket\": \"first\"}).head()"
   ]
  },
  {
   "cell_type": "markdown",
   "metadata": {},
   "source": [
    "# In progress: uncensoring data"
   ]
  },
  {
   "cell_type": "markdown",
   "metadata": {},
   "source": [
    "14 day horizon from first recorded attempt to deal with censoring:"
   ]
  },
  {
   "cell_type": "code",
   "execution_count": 160,
   "metadata": {},
   "outputs": [],
   "source": [
    "sessions_sample = sessions.sample(10000)"
   ]
  },
  {
   "cell_type": "code",
   "execution_count": 163,
   "metadata": {},
   "outputs": [
    {
     "name": "stdout",
     "output_type": "stream",
     "text": [
      "<class 'pandas.core.frame.DataFrame'>\n",
      "Int64Index: 10000 entries, 2108210 to 29624\n",
      "Data columns (total 13 columns):\n",
      "edit_attempt_id      10000 non-null object\n",
      "wiki                 10000 non-null category\n",
      "platform             10000 non-null category\n",
      "interface            10000 non-null object\n",
      "user_id              10000 non-null object\n",
      "bucket               10000 non-null category\n",
      "user_is_anonymous    10000 non-null bool\n",
      "user_edit_count      10000 non-null int64\n",
      "max_rev_id           10000 non-null int64\n",
      "ready                10000 non-null bool\n",
      "completed            10000 non-null bool\n",
      "start_dt             10000 non-null datetime64[ns, UTC]\n",
      "duration             10000 non-null int64\n",
      "dtypes: bool(3), category(3), datetime64[ns, UTC](1), int64(3), object(3)\n",
      "memory usage: 684.6+ KB\n"
     ]
    }
   ],
   "source": [
    "sessions_sample.info()"
   ]
  },
  {
   "cell_type": "code",
   "execution_count": 171,
   "metadata": {},
   "outputs": [
    {
     "name": "stdout",
     "output_type": "stream",
     "text": [
      "<class 'pandas.core.frame.DataFrame'>\n",
      "MultiIndex: 6619 entries, (00005eececf789cffb2a9b7216fa4115, 0) to (zh_yuewiki-179809, 0)\n",
      "Data columns (total 12 columns):\n",
      "edit_attempt_id      6619 non-null object\n",
      "wiki                 6619 non-null category\n",
      "platform             6619 non-null category\n",
      "interface            6619 non-null object\n",
      "bucket               6619 non-null category\n",
      "user_is_anonymous    6619 non-null bool\n",
      "user_edit_count      6619 non-null int64\n",
      "max_rev_id           6619 non-null int64\n",
      "ready                6619 non-null bool\n",
      "completed            6619 non-null bool\n",
      "start_dt             6619 non-null datetime64[ns, UTC]\n",
      "duration             6619 non-null int64\n",
      "dtypes: bool(3), category(3), datetime64[ns, UTC](1), int64(3), object(2)\n",
      "memory usage: 446.9+ KB\n"
     ]
    }
   ],
   "source": [
    "data_end = pd.Timestamp(\"2019-08-27 00:00:00Z\")\n",
    "\n",
    "def uncensor(group):\n",
    "    user_entrance = group[\"start_dt\"].min()\n",
    "    user_exit = user_entrance + pd.Timedelta(days=14)\n",
    "    \n",
    "    if user_exit > data_end:\n",
    "        return None\n",
    "    else:\n",
    "        return group[group[\"start_dt\"] < user_exit].reset_index(drop=True).drop(\"user_id\", axis=1)\n",
    "    \n",
    "uncensored_sessions = sessions_sample.groupby(\"user_id\").apply(uncensor)\n",
    "uncensored_sessions.info()"
   ]
  },
  {
   "cell_type": "code",
   "execution_count": 1,
   "metadata": {},
   "outputs": [
    {
     "ename": "NameError",
     "evalue": "name 'uncensored_sessions' is not defined",
     "output_type": "error",
     "traceback": [
      "\u001b[0;31m---------------------------------------------------------------------------\u001b[0m",
      "\u001b[0;31mNameError\u001b[0m                                 Traceback (most recent call last)",
      "\u001b[0;32m<ipython-input-1-fd02fa451f27>\u001b[0m in \u001b[0;36m<module>\u001b[0;34m\u001b[0m\n\u001b[0;32m----> 1\u001b[0;31m \u001b[0muncensored_sessions\u001b[0m\u001b[0;34m.\u001b[0m\u001b[0mhead\u001b[0m\u001b[0;34m(\u001b[0m\u001b[0;34m)\u001b[0m\u001b[0;34m\u001b[0m\u001b[0m\n\u001b[0m",
      "\u001b[0;31mNameError\u001b[0m: name 'uncensored_sessions' is not defined"
     ]
    }
   ],
   "source": [
    "uncensored_sessions.head()"
   ]
  },
  {
   "cell_type": "markdown",
   "metadata": {},
   "source": [
    "# Average attempts and completion per user"
   ]
  },
  {
   "cell_type": "code",
   "execution_count": 213,
   "metadata": {},
   "outputs": [],
   "source": [
    "users[\"init_completion_rate\"] = users[\"completed_attempts\"] / users[\"attempts\"]"
   ]
  },
  {
   "cell_type": "code",
   "execution_count": 219,
   "metadata": {},
   "outputs": [
    {
     "data": {
      "text/html": [
       "<style  type=\"text/css\" >\n",
       "</style><table id=\"T_88edc016_c8e0_11e9_81a7_d094661b49a6\" ><thead>    <tr>        <th class=\"blank level0\" ></th>        <th class=\"col_heading level0 col0\" >avg_attempts</th>        <th class=\"col_heading level0 col1\" >avg_completed_edits</th>        <th class=\"col_heading level0 col2\" >avg_completion_rate</th>        <th class=\"col_heading level0 col3\" >avg_init_completion_rate</th>    </tr>    <tr>        <th class=\"index_name level0\" >bucket</th>        <th class=\"blank\" ></th>        <th class=\"blank\" ></th>        <th class=\"blank\" ></th>        <th class=\"blank\" ></th>    </tr></thead><tbody>\n",
       "                <tr>\n",
       "                        <th id=\"T_88edc016_c8e0_11e9_81a7_d094661b49a6level0_row0\" class=\"row_heading level0 row0\" >default-source</th>\n",
       "                        <td id=\"T_88edc016_c8e0_11e9_81a7_d094661b49a6row0_col0\" class=\"data row0 col0\" >1.399</td>\n",
       "                        <td id=\"T_88edc016_c8e0_11e9_81a7_d094661b49a6row0_col1\" class=\"data row0 col1\" >0.040</td>\n",
       "                        <td id=\"T_88edc016_c8e0_11e9_81a7_d094661b49a6row0_col2\" class=\"data row0 col2\" >0.88%</td>\n",
       "                        <td id=\"T_88edc016_c8e0_11e9_81a7_d094661b49a6row0_col3\" class=\"data row0 col3\" >0.87%</td>\n",
       "            </tr>\n",
       "            <tr>\n",
       "                        <th id=\"T_88edc016_c8e0_11e9_81a7_d094661b49a6level0_row1\" class=\"row_heading level0 row1\" >default-visual</th>\n",
       "                        <td id=\"T_88edc016_c8e0_11e9_81a7_d094661b49a6row1_col0\" class=\"data row1 col0\" >1.403</td>\n",
       "                        <td id=\"T_88edc016_c8e0_11e9_81a7_d094661b49a6row1_col1\" class=\"data row1 col1\" >0.037</td>\n",
       "                        <td id=\"T_88edc016_c8e0_11e9_81a7_d094661b49a6row1_col2\" class=\"data row1 col2\" >1.23%</td>\n",
       "                        <td id=\"T_88edc016_c8e0_11e9_81a7_d094661b49a6row1_col3\" class=\"data row1 col3\" >0.79%</td>\n",
       "            </tr>\n",
       "    </tbody></table>"
      ],
      "text/plain": [
       "<pandas.io.formats.style.Styler at 0x7f02cc3a4198>"
      ]
     },
     "execution_count": 219,
     "metadata": {},
     "output_type": "execute_result"
    }
   ],
   "source": [
    "users.groupby(\"bucket\").agg(\n",
    "    avg_attempts=(\"attempts\", \"mean\"),\n",
    "    avg_completion_rate=(\"completion_rate\", \"mean\"),\n",
    "    avg_init_completion_rate=(\"init_completion_rate\", \"mean\"),\n",
    "    avg_completed_edits=(\"completed_attempts\", \"mean\"),\n",
    ").style.format({\n",
    "    \"avg_attempts\": \"{:.3f}\",\n",
    "    \"avg_completed_edits\": \"{:.3f}\",\n",
    "    \"avg_completion_rate\": \"{:.2%}\",\n",
    "    \"avg_init_completion_rate\": \"{:.2%}\"\n",
    "})"
   ]
  },
  {
   "cell_type": "markdown",
   "metadata": {},
   "source": [
    "# Time to save"
   ]
  },
  {
   "cell_type": "code",
   "execution_count": 215,
   "metadata": {},
   "outputs": [
    {
     "data": {
      "text/plain": [
       "bucket\n",
       "default-source    131.509963\n",
       "default-visual    165.769435\n",
       "Name: duration, dtype: float64"
      ]
     },
     "execution_count": 215,
     "metadata": {},
     "output_type": "execute_result"
    }
   ],
   "source": [
    "sessions.query(\"completed\").groupby(\"bucket\")[\"duration\"].mean()"
   ]
  },
  {
   "cell_type": "markdown",
   "metadata": {},
   "source": [
    "# Edit quality"
   ]
  },
  {
   "cell_type": "code",
   "execution_count": null,
   "metadata": {},
   "outputs": [],
   "source": []
  },
  {
   "cell_type": "markdown",
   "metadata": {},
   "source": [
    "# Edit switching"
   ]
  },
  {
   "cell_type": "code",
   "execution_count": null,
   "metadata": {},
   "outputs": [],
   "source": [
    "events"
   ]
  }
 ],
 "metadata": {
  "kernelspec": {
   "display_name": "Python 3",
   "language": "python",
   "name": "python3"
  },
  "language_info": {
   "codemirror_mode": {
    "name": "ipython",
    "version": 3
   },
   "file_extension": ".py",
   "mimetype": "text/x-python",
   "name": "python",
   "nbconvert_exporter": "python",
   "pygments_lexer": "ipython3",
   "version": "3.5.3"
  }
 },
 "nbformat": 4,
 "nbformat_minor": 4
}
